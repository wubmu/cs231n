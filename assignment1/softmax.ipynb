{
 "cells": [
  {
   "cell_type": "markdown",
   "metadata": {
    "collapsed": true,
    "pycharm": {
     "name": "#%% md\n"
    }
   },
   "source": [
    "## softmax 训练\n",
    "\n",
    "这个练习类似与SVM：\n",
    "1. 为Softmax分类器实现完全矢量化的**损失函数**\n",
    "2. 为其**梯度分析（analytic gradient）**实现完全矢量化的表达式\n",
    "3. **检查你的实现**用数值梯度(numerical gradient)\n",
    "4. 使用验证集来调整学习率和正则化强度\n",
    "5. 优化损失函数用**SGD**\n",
    "6. **可视化**最终学到的权重"
   ]
  },
  {
   "cell_type": "code",
   "execution_count": 1,
   "outputs": [],
   "source": [
    "import random\n",
    "import numpy as np\n",
    "from cs231n.data_utils import load_CIFAR10\n",
    "import matplotlib.pyplot as plt\n",
    "\n",
    "%matplotlib inline\n",
    "plt.rcParams['figure.figsize'] = (10.0, 8.0) # 设置画布大小\n",
    "plt.rcParams['image.interpolation'] = 'nearest'\n",
    "plt.rcParams['image.cmap'] = 'gray'\n",
    "\n",
    "%load_ext autoreload\n",
    "%autoreload 2"
   ],
   "metadata": {
    "collapsed": false,
    "pycharm": {
     "name": "#%%\n"
    }
   }
  },
  {
   "cell_type": "code",
   "execution_count": 2,
   "outputs": [
    {
     "name": "stdout",
     "output_type": "stream",
     "text": [
      "Train data shape:  (49000, 3073)\n",
      "Train labels shape:  (49000,)\n",
      "Validation data shape:  (1000, 3073)\n",
      "Validation labels shape:  (1000,)\n",
      "Test data shape:  (1000, 3073)\n",
      "Test labels shape:  (1000,)\n",
      "dev data shape:  (500, 3073)\n",
      "dev labels shape:  (500,)\n"
     ]
    }
   ],
   "source": [
    "def get_CIFAR10_data(num_training=49000, num_validation=1000, num_test=1000, num_dev=500):\n",
    "    \"\"\"\n",
    "    从磁盘加载 CIFAR-10 数据集并执行预处理以准备 它用于线性分类器\n",
    "    \"\"\"\n",
    "    cifar10_dir = 'cs231n/datasets/cifar-10-batches-py'\n",
    "    X_train, y_train, X_test, y_test = load_CIFAR10(cifar10_dir)\n",
    "\n",
    "    # 数据切分\n",
    "    mask = list(range(num_training, num_training + num_validation))\n",
    "    X_val = X_train[mask]\n",
    "    y_val = y_train[mask]\n",
    "\n",
    "    mask = list(range(num_training))\n",
    "    X_train = X_train[mask]\n",
    "    y_train = y_train[mask]\n",
    "    mask = list(range(num_test))\n",
    "\n",
    "    X_test = X_test[mask]\n",
    "    y_test = y_test[mask]\n",
    "    mask = np.random.choice(num_training, num_dev, replace=False)\n",
    "\n",
    "    X_dev = X_train[mask]\n",
    "    y_dev = y_train[mask]\n",
    "    # 数据预处理：\n",
    "    X_train = np.reshape(X_train, (X_train.shape[0], -1))\n",
    "    X_val = np.reshape(X_val, (X_val.shape[0], -1))\n",
    "    X_test = np.reshape(X_test, (X_test.shape[0], -1))\n",
    "    X_dev = np.reshape(X_dev, (X_dev.shape[0], -1))\n",
    "\n",
    "    # 归一化数据：减去平均图像\n",
    "    mean_image = np.mean(X_train, axis = 0)\n",
    "    X_train -= mean_image\n",
    "    X_val -= mean_image\n",
    "    X_test -= mean_image\n",
    "    X_dev -= mean_image\n",
    "\n",
    "    # 添加偏差维度并转换为列\n",
    "    X_train = np.hstack([X_train, np.ones((X_train.shape[0], 1))])\n",
    "    X_val = np.hstack([X_val, np.ones((X_val.shape[0], 1))])\n",
    "    X_test = np.hstack([X_test, np.ones((X_test.shape[0], 1))])\n",
    "    X_dev = np.hstack([X_dev, np.ones((X_dev.shape[0], 1))])\n",
    "    return X_train, y_train, X_val, y_val, X_test, y_test, X_dev, y_dev\n",
    "\n",
    "X_train, y_train, X_val, y_val, X_test, y_test, X_dev, y_dev = get_CIFAR10_data()\n",
    "print('Train data shape: ', X_train.shape)\n",
    "print('Train labels shape: ', y_train.shape)\n",
    "print('Validation data shape: ', X_val.shape)\n",
    "print('Validation labels shape: ', y_val.shape)\n",
    "print('Test data shape: ', X_test.shape)\n",
    "print('Test labels shape: ', y_test.shape)\n",
    "print('dev data shape: ', X_dev.shape)\n",
    "print('dev labels shape: ', y_dev.shape)"
   ],
   "metadata": {
    "collapsed": false,
    "pycharm": {
     "name": "#%%\n"
    }
   }
  },
  {
   "cell_type": "markdown",
   "source": [
    "## Softmax分类器\n",
    "需要先完成**cs231n/classifiers/softmax.py**"
   ],
   "metadata": {
    "collapsed": false,
    "pycharm": {
     "name": "#%% md\n"
    }
   }
  },
  {
   "cell_type": "code",
   "execution_count": 3,
   "outputs": [
    {
     "name": "stdout",
     "output_type": "stream",
     "text": [
      "loss: 2.323465\n",
      "sanity check: 2.302585\n"
     ]
    }
   ],
   "source": [
    "from cs231n.classifiers.softmax import softmax_loss_naive\n",
    "import time\n",
    "\n",
    "# 生成随机权重矩阵\n",
    "W = np.random.randn(3073, 10) * 0.0001\n",
    "loss, grad = softmax_loss_naive(W, X_dev, y_dev, 0.0)\n",
    "\n",
    "# As a rough sanity check, our loss should be something close to -log(0.1).\n",
    "print('loss: %f' % loss)\n",
    "print('sanity check: %f' % (-np.log(0.1)))"
   ],
   "metadata": {
    "collapsed": false,
    "pycharm": {
     "name": "#%%\n"
    }
   }
  },
  {
   "cell_type": "markdown",
   "source": [
    "**Inline Question 1**\n",
    "\n",
    "Why do we expect our loss to be close to -log(0.1)? Explain briefly.**\n",
    "\n",
    "$\\color{blue}{\\textit Your Answer:}$ *Fill this in*\n",
    "\n",
    "Because the w is random choose,and we have 10 classes,so the loos is close to -log(1/10)"
   ],
   "metadata": {
    "collapsed": false,
    "pycharm": {
     "name": "#%% md\n"
    }
   }
  },
  {
   "cell_type": "code",
   "execution_count": 4,
   "outputs": [
    {
     "name": "stdout",
     "output_type": "stream",
     "text": [
      "numerical: -0.699726 analytic: -0.699726, relative error: 7.353859e-08\n",
      "numerical: 1.419722 analytic: 1.419722, relative error: 5.750682e-08\n",
      "numerical: 0.023981 analytic: 0.023981, relative error: 1.494122e-06\n",
      "numerical: 0.581969 analytic: 0.581969, relative error: 1.642090e-08\n",
      "numerical: 2.328740 analytic: 2.328740, relative error: 2.856405e-09\n",
      "numerical: -0.391489 analytic: -0.391489, relative error: 8.477897e-08\n",
      "numerical: -2.167194 analytic: -2.167194, relative error: 3.965149e-10\n",
      "numerical: -3.068347 analytic: -3.068347, relative error: 3.467063e-09\n",
      "numerical: 1.530229 analytic: 1.530228, relative error: 2.935620e-08\n",
      "numerical: 0.554340 analytic: 0.554340, relative error: 1.498930e-08\n",
      "numerical: -3.437827 analytic: -3.437827, relative error: 2.121205e-08\n",
      "numerical: -1.777174 analytic: -1.777174, relative error: 3.498660e-08\n",
      "numerical: 2.782980 analytic: 2.782980, relative error: 9.500094e-09\n",
      "numerical: -0.038265 analytic: -0.038265, relative error: 8.655445e-07\n",
      "numerical: 1.630503 analytic: 1.630503, relative error: 2.131377e-08\n",
      "numerical: -0.944942 analytic: -0.944942, relative error: 1.957509e-08\n",
      "numerical: -0.986126 analytic: -0.986125, relative error: 2.476524e-08\n",
      "numerical: -1.442928 analytic: -1.442928, relative error: 4.325801e-08\n",
      "numerical: 0.760271 analytic: 0.760271, relative error: 1.100285e-07\n",
      "numerical: 0.543787 analytic: 0.543787, relative error: 3.096652e-08\n"
     ]
    }
   ],
   "source": [
    "# 完成softmax_loss_naive的实现\n",
    "loss, grad = softmax_loss_naive(W, X_dev, y_dev, 0.0)\n",
    "\n",
    "# 使用数值梯度检查作为调试工具。\n",
    "# 数值梯度应该接近解析梯度。\n",
    "from cs231n.gradient_check import grad_check_sparse\n",
    "f = lambda w: softmax_loss_naive(w, X_dev, y_dev, 0.0)[0]\n",
    "grad_numerical = grad_check_sparse(f, W, grad, 10)\n",
    "\n",
    "# 用正则化做另一个梯度检查\n",
    "loss, grad = softmax_loss_naive(W, X_dev, y_dev, 5e1)\n",
    "f = lambda w: softmax_loss_naive(w, X_dev, y_dev, 5e1)[0]\n",
    "grad_numerical = grad_check_sparse(f, W, grad, 10)"
   ],
   "metadata": {
    "collapsed": false,
    "pycharm": {
     "name": "#%%\n"
    }
   }
  },
  {
   "cell_type": "code",
   "execution_count": 5,
   "outputs": [
    {
     "name": "stdout",
     "output_type": "stream",
     "text": [
      "naive loss: 2.323465e+00 computed in 0.122029s\n",
      "vectorized loss: 2.323465e+00 computed in 0.004005s\n",
      "Loss difference: 0.000000\n",
      "Gradient difference: 0.000000\n"
     ]
    }
   ],
   "source": [
    "# 现在我们实现了softmax的损失函数以及梯度的简单实现。\n",
    "# 实现向量化的版本softmax_loss_vectorized\n",
    "# 两个版本应该计算相同的结果，但矢量化版本应该是更快\n",
    "tic = time.time()\n",
    "loss_naive, grad_naive = softmax_loss_naive(W, X_dev, y_dev, 0.000005)\n",
    "toc = time.time()\n",
    "print('naive loss: %e computed in %fs' % (loss_naive, toc - tic))\n",
    "\n",
    "from cs231n.classifiers.softmax import softmax_loss_vectorized\n",
    "tic = time.time()\n",
    "loss_vectorized, grad_vectorized = softmax_loss_vectorized(W, X_dev, y_dev, 0.000005)\n",
    "toc = time.time()\n",
    "print('vectorized loss: %e computed in %fs' % (loss_vectorized, toc - tic))\n",
    "\n",
    "# 我们使用Frobenius范数比较两个版本\n",
    "grad_difference = np.linalg.norm(grad_naive - grad_vectorized, ord='fro')\n",
    "print('Loss difference: %f' % np.abs(loss_naive - loss_vectorized))\n",
    "print('Gradient difference: %f' % grad_difference)"
   ],
   "metadata": {
    "collapsed": false,
    "pycharm": {
     "name": "#%%\n"
    }
   }
  },
  {
   "cell_type": "code",
   "execution_count": 6,
   "outputs": [
    {
     "name": "stdout",
     "output_type": "stream",
     "text": [
      "\n",
      "iteration 0 / 1500: loss 780.954344\n",
      "iteration 100 / 1500: loss 286.551785\n",
      "iteration 200 / 1500: loss 106.277796\n",
      "iteration 300 / 1500: loss 40.229217\n",
      "iteration 400 / 1500: loss 16.080650\n",
      "iteration 500 / 1500: loss 7.165039\n",
      "iteration 600 / 1500: loss 3.911737\n",
      "iteration 700 / 1500: loss 2.761040\n",
      "iteration 800 / 1500: loss 2.345158\n",
      "iteration 900 / 1500: loss 2.185436\n",
      "iteration 1000 / 1500: loss 2.123782\n",
      "iteration 1100 / 1500: loss 2.079752\n",
      "iteration 1200 / 1500: loss 2.068538\n",
      "iteration 1300 / 1500: loss 2.079761\n",
      "iteration 1400 / 1500: loss 2.044530\n",
      "\n",
      "iteration 0 / 1500: loss 1532.373062\n",
      "iteration 100 / 1500: loss 206.295433\n",
      "iteration 200 / 1500: loss 29.434595\n",
      "iteration 300 / 1500: loss 5.744866\n",
      "iteration 400 / 1500: loss 2.663069\n",
      "iteration 500 / 1500: loss 2.193629\n",
      "iteration 600 / 1500: loss 2.116090\n",
      "iteration 700 / 1500: loss 2.128141\n",
      "iteration 800 / 1500: loss 2.182875\n",
      "iteration 900 / 1500: loss 2.187751\n",
      "iteration 1000 / 1500: loss 2.185382\n",
      "iteration 1100 / 1500: loss 2.142671\n",
      "iteration 1200 / 1500: loss 2.089809\n",
      "iteration 1300 / 1500: loss 2.142224\n",
      "iteration 1400 / 1500: loss 2.176667\n",
      "\n",
      "iteration 0 / 1500: loss 771.848605\n",
      "iteration 100 / 1500: loss 6.904307\n",
      "iteration 200 / 1500: loss 2.113588\n",
      "iteration 300 / 1500: loss 2.120031\n",
      "iteration 400 / 1500: loss 2.100100\n",
      "iteration 500 / 1500: loss 2.147885\n",
      "iteration 600 / 1500: loss 2.048287\n",
      "iteration 700 / 1500: loss 2.089095\n",
      "iteration 800 / 1500: loss 2.103442\n",
      "iteration 900 / 1500: loss 2.084624\n",
      "iteration 1000 / 1500: loss 2.076921\n",
      "iteration 1100 / 1500: loss 2.089574\n",
      "iteration 1200 / 1500: loss 2.075146\n",
      "iteration 1300 / 1500: loss 2.124766\n",
      "iteration 1400 / 1500: loss 2.079732\n",
      "\n",
      "iteration 0 / 1500: loss 1557.625002\n",
      "iteration 100 / 1500: loss 2.216463\n",
      "iteration 200 / 1500: loss 2.108205\n",
      "iteration 300 / 1500: loss 2.157837\n",
      "iteration 400 / 1500: loss 2.144347\n",
      "iteration 500 / 1500: loss 2.127841\n",
      "iteration 600 / 1500: loss 2.157276\n",
      "iteration 700 / 1500: loss 2.188398\n",
      "iteration 800 / 1500: loss 2.177768\n",
      "iteration 900 / 1500: loss 2.175296\n",
      "iteration 1000 / 1500: loss 2.156354\n",
      "iteration 1100 / 1500: loss 2.144137\n",
      "iteration 1200 / 1500: loss 2.113415\n",
      "iteration 1300 / 1500: loss 2.151245\n",
      "iteration 1400 / 1500: loss 2.168163\n",
      "lr 1.000000e-07 reg 2.500000e+04 train accuracy: 0.326714 val accuracy: 0.342000\n",
      "lr 1.000000e-07 reg 5.000000e+04 train accuracy: 0.301531 val accuracy: 0.320000\n",
      "lr 5.000000e-07 reg 2.500000e+04 train accuracy: 0.328122 val accuracy: 0.334000\n",
      "lr 5.000000e-07 reg 5.000000e+04 train accuracy: 0.311286 val accuracy: 0.325000\n",
      "best validation accuracy achieved during cross-validation: 0.342000\n"
     ]
    }
   ],
   "source": [
    "# 使用验证集来调整超参数（正则化强度和学习率）\n",
    "# 该尝试不同的学习范围 # 比率和正则化强度；如果你小心，你应该能够\n",
    "# 在验证集上获得超过 0.35 的分类准确率\n",
    "from cs231n.classifiers.linear_classifier import Softmax\n",
    "results = {}\n",
    "best_val = -1\n",
    "best_softmax = None\n",
    "learning_rates = [1e-7, 5e-7]\n",
    "regularization_strengths = [2.5e4, 5e4]\n",
    "\n",
    "################################################################################\n",
    "# TODO:                                                                        #\n",
    "# Use the validation set to set the learning rate and regularization strength. #\n",
    "# This should be identical to the validation that you did for the SVM; save    #\n",
    "# the best trained softmax classifer in best_softmax.                          #\n",
    "################################################################################\n",
    "\n",
    "for rate in learning_rates:\n",
    "    for reg in regularization_strengths:\n",
    "        print()\n",
    "        s=Softmax()\n",
    "        s.train(X_train,y_train,learning_rate=rate,reg=reg,num_iters=1500,verbose=True)\n",
    "        y_train_pred = s.predict(X_train)\n",
    "        y_val_pred = s.predict(X_val)\n",
    "        val=np.mean(y_val == y_val_pred)\n",
    "        if val>best_val:\n",
    "            best_softmax=s\n",
    "            best_val=val\n",
    "        results[(rate,reg)]=(np.mean(y_train == y_train_pred),val)\n",
    "        train_accuracy, val_accuracy = results[(rate, reg)]\n",
    "        # print('lr %e reg %e train accuracy: %f val accuracy: %f' % (\n",
    "        #     rate, reg, train_accuracy, val_accuracy))\n",
    "# *****END OF YOUR CODE (DO NOT DELETE/MODIFY THIS LINE)*****\n",
    "\n",
    "# Print out results.\n",
    "for lr, reg in sorted(results):\n",
    "    train_accuracy, val_accuracy = results[(lr, reg)]\n",
    "    print('lr %e reg %e train accuracy: %f val accuracy: %f' % (\n",
    "                lr, reg, train_accuracy, val_accuracy))\n",
    "\n",
    "print('best validation accuracy achieved during cross-validation: %f' % best_val)"
   ],
   "metadata": {
    "collapsed": false,
    "pycharm": {
     "name": "#%%\n"
    }
   }
  },
  {
   "cell_type": "code",
   "execution_count": 8,
   "outputs": [
    {
     "name": "stdout",
     "output_type": "stream",
     "text": [
      "softmax on raw pixels final test set accuracy: 0.338000\n"
     ]
    }
   ],
   "source": [
    "# 在测试集上验证\n",
    "y_test_pred = best_softmax.predict(X_test)\n",
    "test_accuracy = np.mean(y_test == y_test_pred)\n",
    "print('softmax on raw pixels final test set accuracy: %f' % (test_accuracy, ))"
   ],
   "metadata": {
    "collapsed": false,
    "pycharm": {
     "name": "#%%\n"
    }
   }
  },
  {
   "cell_type": "code",
   "execution_count": 10,
   "outputs": [
    {
     "data": {
      "text/plain": "<Figure size 720x576 with 10 Axes>",
      "image/png": "[encoded data removed]"
     },
     "metadata": {
      "needs_background": "light"
     },
     "output_type": "display_data"
    }
   ],
   "source": [
    "# 可视化学到的权重为每一个类\n",
    "w = best_softmax.W[:-1,:]       # 剔除偏置\n",
    "w = w.reshape(32, 32, 3, 10)\n",
    "\n",
    "w_min, w_max = np.min(w), np.max(w)\n",
    "classes = ['plane', 'car', 'bird', 'cat', 'deer', 'dog', 'frog', 'horse', 'ship', 'truck']\n",
    "for i in range(10):\n",
    "    plt.subplot(2, 5, i + 1)\n",
    "\n",
    "    # Rescale the weights to be between 0 and 255\n",
    "    wimg = 255.0 * (w[:, :, :, i].squeeze() - w_min) / (w_max - w_min)\n",
    "    plt.imshow(wimg.astype('uint8'))\n",
    "    plt.axis('off')\n",
    "    plt.title(classes[i])"
   ],
   "metadata": {
    "collapsed": false,
    "pycharm": {
     "name": "#%%\n"
    }
   }
  }
 ],
 "metadata": {
  "kernelspec": {
   "display_name": "Python 3",
   "language": "python",
   "name": "python3"
  },
  "language_info": {
   "codemirror_mode": {
    "name": "ipython",
    "version": 2
   },
   "file_extension": ".py",
   "mimetype": "text/x-python",
   "name": "python",
   "nbconvert_exporter": "python",
   "pygments_lexer": "ipython2",
   "version": "2.7.6"
  }
 },
 "nbformat": 4,
 "nbformat_minor": 0
}