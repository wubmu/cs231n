{
 "cells": [
  {
   "cell_type": "markdown",
   "metadata": {
    "collapsed": true,
    "pycharm": {
     "name": "#%% md\n"
    }
   },
   "source": [
    "## Python"
   ]
  },
  {
   "cell_type": "code",
   "execution_count": 1,
   "outputs": [
    {
     "name": "stdout",
     "output_type": "stream",
     "text": [
      "[1, 1, 2, 3, 5, 8, 9, 47]\n"
     ]
    }
   ],
   "source": [
    "def quicksort(arr):\n",
    "    if len(arr) <= 1:\n",
    "        return arr\n",
    "\n",
    "    pivot = arr[len(arr) // 2]\n",
    "    left = [ x for x in arr if x < pivot]\n",
    "    middle = [x for x in arr if x == pivot]\n",
    "    right = [x for x in arr if x > pivot]\n",
    "    return quicksort(left) + middle + quicksort(right)\n",
    "\n",
    "print(quicksort([9,1,5,47,3,2,1,8]))"
   ],
   "metadata": {
    "collapsed": false,
    "pycharm": {
     "name": "#%%\n"
    }
   }
  },
  {
   "cell_type": "markdown",
   "source": [
    "### Python版本\n",
    "可以在命令行输入`python -version`"
   ],
   "metadata": {
    "collapsed": false,
    "pycharm": {
     "name": "#%% md\n"
    }
   }
  },
  {
   "cell_type": "code",
   "execution_count": 2,
   "outputs": [
    {
     "name": "stdout",
     "output_type": "stream",
     "text": [
      "当前python版本 3.6.12 |Anaconda, Inc.| (default, Sep  9 2020, 00:29:25) [MSC v.1916 64 bit (AMD64)]\n"
     ]
    }
   ],
   "source": [
    "import sys\n",
    "print(\"当前python版本\",sys.version)"
   ],
   "metadata": {
    "collapsed": false,
    "pycharm": {
     "name": "#%%\n"
    }
   }
  },
  {
   "cell_type": "markdown",
   "source": [
    "### 基本的数据类型\n",
    "python的基本数据类型包括整形，浮点型，布尔型和字符串型(integers,floats,booleans\n",
    ",strings)\n",
    "\n",
    "**数值型：**包括integers和floats"
   ],
   "metadata": {
    "collapsed": false,
    "pycharm": {
     "name": "#%% md\n"
    }
   }
  },
  {
   "cell_type": "code",
   "execution_count": 3,
   "outputs": [
    {
     "name": "stdout",
     "output_type": "stream",
     "text": [
      "<class 'int'>\n",
      "3\n",
      "4\n",
      "2\n",
      "6\n",
      "9\n",
      "4\n",
      "8\n",
      "<class 'float'>\n",
      "2.5 3.5 5.0 6.25\n"
     ]
    }
   ],
   "source": [
    "x = 3\n",
    "print(type(x))\n",
    "print(x)\n",
    "print(x + 1)\n",
    "print(x - 1)\n",
    "print(x * 2)\n",
    "print(x ** 2)\n",
    "x += 1\n",
    "print(x)\n",
    "x *= 2\n",
    "print(x)\n",
    "y = 2.5\n",
    "print(type(y))\n",
    "print(y, y + 1, y * 2, y ** 2)"
   ],
   "metadata": {
    "collapsed": false,
    "pycharm": {
     "name": "#%%\n"
    }
   }
  },
  {
   "cell_type": "markdown",
   "source": [
    "**Note**：python 没有自增(x++)和自减(x--)操作\n",
    "\n",
    "**Booleans:**python实现boolean逻辑操作用的是英文而不是符号（例如||,&&）"
   ],
   "metadata": {
    "collapsed": false,
    "pycharm": {
     "name": "#%% md\n"
    }
   }
  },
  {
   "cell_type": "code",
   "execution_count": 4,
   "outputs": [
    {
     "name": "stdout",
     "output_type": "stream",
     "text": [
      "<class 'bool'>\n",
      "False\n",
      "True\n",
      "False\n",
      "True\n"
     ]
    }
   ],
   "source": [
    "t = True\n",
    "f = False\n",
    "print(type(t))\n",
    "print(t and f)  #   False\n",
    "print(t or f)   #   True\n",
    "print(not t)    #   False\n",
    "print(t != f)   #异或操作 True"
   ],
   "metadata": {
    "collapsed": false,
    "pycharm": {
     "name": "#%%\n"
    }
   }
  },
  {
   "cell_type": "markdown",
   "source": [
    "**String**"
   ],
   "metadata": {
    "collapsed": false,
    "pycharm": {
     "name": "#%% md\n"
    }
   }
  },
  {
   "cell_type": "code",
   "execution_count": 7,
   "outputs": [
    {
     "name": "stdout",
     "output_type": "stream",
     "text": [
      "hello\n",
      "5\n",
      "hello world\n",
      "hello world 12\n",
      "hello world 13\n"
     ]
    }
   ],
   "source": [
    "                    #说明；输出\n",
    "hello = 'hello'\n",
    "world = \"world\"\n",
    "print(hello)\n",
    "print(len(hello))   #字符串长度：5\n",
    "hw = hello+' '+world    #字符串拼接\n",
    "print(hw)   #\"hello world\"\n",
    "hw12 = '%s %s %d' %(hello, world, 12)   #字符串格式化\n",
    "print(hw12) #\"hello world 12\"\n",
    "hw13 = f'{hello} {world} {13}'\n",
    "print(hw13) #\"hello world 13\""
   ],
   "metadata": {
    "collapsed": false,
    "pycharm": {
     "name": "#%%\n"
    }
   }
  },
  {
   "cell_type": "markdown",
   "source": [
    "### Containers(容器)\n",
    "python包含了几个内置的容器类型:lists,dictionaries,sets和tuples\n",
    "\n",
    "#### Lists\n",
    "lists和数组等效，但是lists可以调整大小并且可以包含不同的数据类型\n",
    "\n",
    "更多关于list的细节[官方list说明](https://docs.python.org/3.6/tutorial/datastructures.html#more-on-lists)"
   ],
   "metadata": {
    "collapsed": false,
    "pycharm": {
     "name": "#%% md\n"
    }
   }
  },
  {
   "cell_type": "code",
   "execution_count": 9,
   "outputs": [
    {
     "name": "stdout",
     "output_type": "stream",
     "text": [
      "[3, 1, 2] 2\n",
      "2\n",
      "[3, 1, 'foo']\n",
      "[3, 1, 'foo', 'bar']\n",
      "bar [3, 1, 'foo']\n"
     ]
    }
   ],
   "source": [
    "xs = [3, 1, 2]      # 创建一个list\n",
    "print(xs, xs[2])    # [3, 1, 2] 2\n",
    "print(xs[-1])       # 负索引从list尾部开始计数; 2\n",
    "xs[2] = 'foo'       # lists可以包含不同的数据类型\n",
    "print(xs)           # [3, 1, 'foo']\n",
    "xs.append('bar')    # 在list尾部添加一个元素\n",
    "print(xs)           # [3, 1, 'foo', 'bar']\n",
    "x = xs.pop()        # 移除并返回最后一个元素\n",
    "print(x,xs)         # bar [3, 1, 'foo']"
   ],
   "metadata": {
    "collapsed": false,
    "pycharm": {
     "name": "#%%                 # 说明：输出\n"
    }
   }
  },
  {
   "cell_type": "markdown",
   "source": [
    "**切片(Slicing):**除了一次访问一个列表元素外，Python还提供了简洁的语法来访问子列表；这称为切片："
   ],
   "metadata": {
    "collapsed": false,
    "pycharm": {
     "name": "#%% md\n"
    }
   }
  },
  {
   "cell_type": "code",
   "execution_count": 10,
   "outputs": [
    {
     "name": "stdout",
     "output_type": "stream",
     "text": [
      "[0, 1, 2, 3, 4]\n",
      "[2, 3]\n",
      "[2, 3, 4]\n",
      "[0, 1]\n",
      "[0, 1, 2, 3, 4]\n",
      "[0, 1, 2, 3]\n",
      "[0, 1, 8, 9, 4]\n"
     ]
    }
   ],
   "source": [
    "nums = list(range(5))   # 内置方法，生成0到4的整型list\n",
    "print(nums)             # [0 , 1, 2, 3, 4]\n",
    "print(nums[2:4])        # 从索引2到4（不包括）中获取切片；[2, 3]\n",
    "print(nums[2:])         # 从索引2开始到结束；[2, 3, 4]\n",
    "print(nums[:2])         # 从头开始获取到索引2（不包括）；[0, 1]\n",
    "print(nums[:])          # 获得整个list切片：[0, 1, 2, 3, 4]\n",
    "print(nums[:-1])        # 切片可以是负的; [0, 1, 2, 3]\n",
    "nums[2:4] =[8, 9]       # 将新的子列表分配给切片\n",
    "print(nums)"
   ],
   "metadata": {
    "collapsed": false,
    "pycharm": {
     "name": "#%%\n"
    }
   }
  }
 ],
 "metadata": {
  "kernelspec": {
   "display_name": "Python 3",
   "language": "python",
   "name": "python3"
  },
  "language_info": {
   "codemirror_mode": {
    "name": "ipython",
    "version": 2
   },
   "file_extension": ".py",
   "mimetype": "text/x-python",
   "name": "python",
   "nbconvert_exporter": "python",
   "pygments_lexer": "ipython2",
   "version": "2.7.6"
  }
 },
 "nbformat": 4,
 "nbformat_minor": 0
}